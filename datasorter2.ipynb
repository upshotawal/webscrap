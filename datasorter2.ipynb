{
 "cells": [
  {
   "cell_type": "code",
   "execution_count": 1,
   "id": "a27984ee",
   "metadata": {},
   "outputs": [],
   "source": [
    "import pandas as pd\n",
    "import numpy as np"
   ]
  },
  {
   "cell_type": "code",
   "execution_count": 2,
   "id": "a9e7362f",
   "metadata": {},
   "outputs": [
    {
     "data": {
      "text/html": [
       "<div>\n",
       "<style scoped>\n",
       "    .dataframe tbody tr th:only-of-type {\n",
       "        vertical-align: middle;\n",
       "    }\n",
       "\n",
       "    .dataframe tbody tr th {\n",
       "        vertical-align: top;\n",
       "    }\n",
       "\n",
       "    .dataframe thead th {\n",
       "        text-align: right;\n",
       "    }\n",
       "</style>\n",
       "<table border=\"1\" class=\"dataframe\">\n",
       "  <thead>\n",
       "    <tr style=\"text-align: right;\">\n",
       "      <th></th>\n",
       "      <th>sku</th>\n",
       "      <th>title</th>\n",
       "      <th>description</th>\n",
       "      <th>price</th>\n",
       "      <th>rating</th>\n",
       "      <th>review</th>\n",
       "      <th>img5</th>\n",
       "      <th>catagories</th>\n",
       "    </tr>\n",
       "  </thead>\n",
       "  <tbody>\n",
       "    <tr>\n",
       "      <th>0</th>\n",
       "      <td>0</td>\n",
       "      <td>Dumbbell Set 10Kg Dumbbells Hand Weights Free ...</td>\n",
       "      <td>Materaial: Rubber\\nPair of Neoprene coated Dum...</td>\n",
       "      <td>9,999</td>\n",
       "      <td>no rating</td>\n",
       "      <td>no review</td>\n",
       "      <td>https://cdn.sastodeal.com/catalog/product/1/i/...</td>\n",
       "      <td>gym</td>\n",
       "    </tr>\n",
       "    <tr>\n",
       "      <th>1</th>\n",
       "      <td>1</td>\n",
       "      <td>Dumbell 10Kg / 15Kg / 20Kg Adjustable Top Grad...</td>\n",
       "      <td>Material: Bumper Plate Rubber with non-slip ru...</td>\n",
       "      <td>9,999</td>\n",
       "      <td>no rating</td>\n",
       "      <td>no review</td>\n",
       "      <td>https://cdn.sastodeal.com/catalog/product/1/i/...</td>\n",
       "      <td>gym</td>\n",
       "    </tr>\n",
       "    <tr>\n",
       "      <th>2</th>\n",
       "      <td>2</td>\n",
       "      <td>Adjustable Dumbbell Barbell Weight Lifting Set...</td>\n",
       "      <td>This Dumbbell and Barbell set is perfect for y...</td>\n",
       "      <td>14,999</td>\n",
       "      <td>no rating</td>\n",
       "      <td>no review</td>\n",
       "      <td>https://cdn.sastodeal.com/catalog/product/1/i/...</td>\n",
       "      <td>gym</td>\n",
       "    </tr>\n",
       "    <tr>\n",
       "      <th>3</th>\n",
       "      <td>3</td>\n",
       "      <td>Push Up Bars</td>\n",
       "      <td>Product details of Push Up Bars\\n\\n\\n\\nConvini...</td>\n",
       "      <td>1,799</td>\n",
       "      <td>no rating</td>\n",
       "      <td>no review</td>\n",
       "      <td>https://cdn.sastodeal.com/catalog/product/1/i/...</td>\n",
       "      <td>gym</td>\n",
       "    </tr>\n",
       "    <tr>\n",
       "      <th>4</th>\n",
       "      <td>4</td>\n",
       "      <td>Roller Perfect Abdominal and Stomach Exercise ...</td>\n",
       "      <td>✮CORE TRAINING ✮ - Izoo Ab roller acts as your...</td>\n",
       "      <td>999</td>\n",
       "      <td>no rating</td>\n",
       "      <td>no review</td>\n",
       "      <td>https://cdn.sastodeal.com/catalog/product/1/i/...</td>\n",
       "      <td>gym</td>\n",
       "    </tr>\n",
       "  </tbody>\n",
       "</table>\n",
       "</div>"
      ],
      "text/plain": [
       "   sku                                              title  \\\n",
       "0    0  Dumbbell Set 10Kg Dumbbells Hand Weights Free ...   \n",
       "1    1  Dumbell 10Kg / 15Kg / 20Kg Adjustable Top Grad...   \n",
       "2    2  Adjustable Dumbbell Barbell Weight Lifting Set...   \n",
       "3    3                                       Push Up Bars   \n",
       "4    4  Roller Perfect Abdominal and Stomach Exercise ...   \n",
       "\n",
       "                                         description   price     rating  \\\n",
       "0  Materaial: Rubber\\nPair of Neoprene coated Dum...   9,999  no rating   \n",
       "1  Material: Bumper Plate Rubber with non-slip ru...   9,999  no rating   \n",
       "2  This Dumbbell and Barbell set is perfect for y...  14,999  no rating   \n",
       "3  Product details of Push Up Bars\\n\\n\\n\\nConvini...   1,799  no rating   \n",
       "4  ✮CORE TRAINING ✮ - Izoo Ab roller acts as your...     999  no rating   \n",
       "\n",
       "      review                                               img5 catagories  \n",
       "0  no review  https://cdn.sastodeal.com/catalog/product/1/i/...        gym  \n",
       "1  no review  https://cdn.sastodeal.com/catalog/product/1/i/...        gym  \n",
       "2  no review  https://cdn.sastodeal.com/catalog/product/1/i/...        gym  \n",
       "3  no review  https://cdn.sastodeal.com/catalog/product/1/i/...        gym  \n",
       "4  no review  https://cdn.sastodeal.com/catalog/product/1/i/...        gym  "
      ]
     },
     "execution_count": 2,
     "metadata": {},
     "output_type": "execute_result"
    }
   ],
   "source": [
    "df = pd.read_csv('gym.csv')\n",
    "df.head()"
   ]
  },
  {
   "cell_type": "code",
   "execution_count": 3,
   "id": "5dac38df",
   "metadata": {},
   "outputs": [
    {
     "data": {
      "text/plain": [
       "sku             int64\n",
       "title          object\n",
       "description    object\n",
       "price          object\n",
       "rating         object\n",
       "review         object\n",
       "img5           object\n",
       "catagories     object\n",
       "dtype: object"
      ]
     },
     "execution_count": 3,
     "metadata": {},
     "output_type": "execute_result"
    }
   ],
   "source": [
    "df.dtypes"
   ]
  },
  {
   "cell_type": "code",
   "execution_count": 4,
   "id": "cfe975e8",
   "metadata": {},
   "outputs": [],
   "source": [
    "df['price'] = df['price'].apply(lambda x: x.replace(\",\", \"\"))\n",
    "df['price'] = df['price'].apply(lambda x: x.replace(\"no price\", \"0\"))\n"
   ]
  },
  {
   "cell_type": "code",
   "execution_count": 12,
   "id": "3fd2b416",
   "metadata": {},
   "outputs": [],
   "source": [
    "df['description'] = df['description'].astype(str)"
   ]
  },
  {
   "cell_type": "code",
   "execution_count": 13,
   "id": "ec3583ac",
   "metadata": {},
   "outputs": [
    {
     "data": {
      "text/html": [
       "<div>\n",
       "<style scoped>\n",
       "    .dataframe tbody tr th:only-of-type {\n",
       "        vertical-align: middle;\n",
       "    }\n",
       "\n",
       "    .dataframe tbody tr th {\n",
       "        vertical-align: top;\n",
       "    }\n",
       "\n",
       "    .dataframe thead th {\n",
       "        text-align: right;\n",
       "    }\n",
       "</style>\n",
       "<table border=\"1\" class=\"dataframe\">\n",
       "  <thead>\n",
       "    <tr style=\"text-align: right;\">\n",
       "      <th></th>\n",
       "      <th>sku</th>\n",
       "      <th>title</th>\n",
       "      <th>description</th>\n",
       "      <th>price</th>\n",
       "      <th>rating</th>\n",
       "      <th>review</th>\n",
       "      <th>img5</th>\n",
       "      <th>catagories</th>\n",
       "    </tr>\n",
       "  </thead>\n",
       "  <tbody>\n",
       "    <tr>\n",
       "      <th>0</th>\n",
       "      <td>0</td>\n",
       "      <td>Dumbbell Set 10Kg Dumbbells Hand Weights Free ...</td>\n",
       "      <td>Materaial: Rubber\\nPair of Neoprene coated Dum...</td>\n",
       "      <td>9999</td>\n",
       "      <td>no rating</td>\n",
       "      <td>no review</td>\n",
       "      <td>https://cdn.sastodeal.com/catalog/product/1/i/...</td>\n",
       "      <td>gym</td>\n",
       "    </tr>\n",
       "    <tr>\n",
       "      <th>1</th>\n",
       "      <td>1</td>\n",
       "      <td>Dumbell 10Kg / 15Kg / 20Kg Adjustable Top Grad...</td>\n",
       "      <td>Material: Bumper Plate Rubber with non-slip ru...</td>\n",
       "      <td>9999</td>\n",
       "      <td>no rating</td>\n",
       "      <td>no review</td>\n",
       "      <td>https://cdn.sastodeal.com/catalog/product/1/i/...</td>\n",
       "      <td>gym</td>\n",
       "    </tr>\n",
       "    <tr>\n",
       "      <th>2</th>\n",
       "      <td>2</td>\n",
       "      <td>Adjustable Dumbbell Barbell Weight Lifting Set...</td>\n",
       "      <td>This Dumbbell and Barbell set is perfect for y...</td>\n",
       "      <td>14999</td>\n",
       "      <td>no rating</td>\n",
       "      <td>no review</td>\n",
       "      <td>https://cdn.sastodeal.com/catalog/product/1/i/...</td>\n",
       "      <td>gym</td>\n",
       "    </tr>\n",
       "    <tr>\n",
       "      <th>3</th>\n",
       "      <td>3</td>\n",
       "      <td>Push Up Bars</td>\n",
       "      <td>Product details of Push Up Bars\\n\\n\\n\\nConvini...</td>\n",
       "      <td>1799</td>\n",
       "      <td>no rating</td>\n",
       "      <td>no review</td>\n",
       "      <td>https://cdn.sastodeal.com/catalog/product/1/i/...</td>\n",
       "      <td>gym</td>\n",
       "    </tr>\n",
       "    <tr>\n",
       "      <th>4</th>\n",
       "      <td>4</td>\n",
       "      <td>Roller Perfect Abdominal and Stomach Exercise ...</td>\n",
       "      <td>✮CORE TRAINING ✮ - Izoo Ab roller acts as your...</td>\n",
       "      <td>999</td>\n",
       "      <td>no rating</td>\n",
       "      <td>no review</td>\n",
       "      <td>https://cdn.sastodeal.com/catalog/product/1/i/...</td>\n",
       "      <td>gym</td>\n",
       "    </tr>\n",
       "  </tbody>\n",
       "</table>\n",
       "</div>"
      ],
      "text/plain": [
       "   sku                                              title  \\\n",
       "0    0  Dumbbell Set 10Kg Dumbbells Hand Weights Free ...   \n",
       "1    1  Dumbell 10Kg / 15Kg / 20Kg Adjustable Top Grad...   \n",
       "2    2  Adjustable Dumbbell Barbell Weight Lifting Set...   \n",
       "3    3                                       Push Up Bars   \n",
       "4    4  Roller Perfect Abdominal and Stomach Exercise ...   \n",
       "\n",
       "                                         description  price     rating  \\\n",
       "0  Materaial: Rubber\\nPair of Neoprene coated Dum...   9999  no rating   \n",
       "1  Material: Bumper Plate Rubber with non-slip ru...   9999  no rating   \n",
       "2  This Dumbbell and Barbell set is perfect for y...  14999  no rating   \n",
       "3  Product details of Push Up Bars\\n\\n\\n\\nConvini...   1799  no rating   \n",
       "4  ✮CORE TRAINING ✮ - Izoo Ab roller acts as your...    999  no rating   \n",
       "\n",
       "      review                                               img5 catagories  \n",
       "0  no review  https://cdn.sastodeal.com/catalog/product/1/i/...        gym  \n",
       "1  no review  https://cdn.sastodeal.com/catalog/product/1/i/...        gym  \n",
       "2  no review  https://cdn.sastodeal.com/catalog/product/1/i/...        gym  \n",
       "3  no review  https://cdn.sastodeal.com/catalog/product/1/i/...        gym  \n",
       "4  no review  https://cdn.sastodeal.com/catalog/product/1/i/...        gym  "
      ]
     },
     "execution_count": 13,
     "metadata": {},
     "output_type": "execute_result"
    }
   ],
   "source": [
    "df.head()"
   ]
  },
  {
   "cell_type": "code",
   "execution_count": 14,
   "id": "f7feb2df",
   "metadata": {},
   "outputs": [],
   "source": [
    "df['price']= df['price'].apply(pd.to_numeric)"
   ]
  },
  {
   "cell_type": "code",
   "execution_count": 15,
   "id": "7f40d5c3",
   "metadata": {},
   "outputs": [
    {
     "data": {
      "text/plain": [
       "sku             int64\n",
       "title          object\n",
       "description    object\n",
       "price           int64\n",
       "rating         object\n",
       "review         object\n",
       "img5           object\n",
       "catagories     object\n",
       "dtype: object"
      ]
     },
     "execution_count": 15,
     "metadata": {},
     "output_type": "execute_result"
    }
   ],
   "source": [
    "df.dtypes"
   ]
  },
  {
   "cell_type": "code",
   "execution_count": 10,
   "id": "3064b0e2",
   "metadata": {},
   "outputs": [
    {
     "data": {
      "text/plain": [
       "0      Materaial: Rubber\\nPair of Neoprene coated Dum...\n",
       "1      Material: Bumper Plate Rubber with non-slip ru...\n",
       "2      This Dumbbell and Barbell set is perfect for y...\n",
       "3      Product details of Push Up Bars\\n\\n\\n\\nConvini...\n",
       "4      ✮CORE TRAINING ✮ - Izoo Ab roller acts as your...\n",
       "                             ...                        \n",
       "175                                       no description\n",
       "176    About Product :\\nThese gloves offer maximum pr...\n",
       "177    BIN Boxing Gloves :\\nThese gloves offer maximu...\n",
       "178    Product Description :\\nThe MS632S is an awesom...\n",
       "179    MS631S Three-man Station Trainer\\nProduct spec...\n",
       "Name: description, Length: 180, dtype: object"
      ]
     },
     "execution_count": 10,
     "metadata": {},
     "output_type": "execute_result"
    }
   ],
   "source": [
    "df['description']"
   ]
  },
  {
   "cell_type": "code",
   "execution_count": null,
   "id": "13ff29df",
   "metadata": {},
   "outputs": [],
   "source": []
  },
  {
   "cell_type": "code",
   "execution_count": 11,
   "id": "6660a949",
   "metadata": {},
   "outputs": [],
   "source": [
    "df.to_csv('gym3.csv')"
   ]
  },
  {
   "cell_type": "code",
   "execution_count": null,
   "id": "7545109b",
   "metadata": {},
   "outputs": [],
   "source": []
  }
 ],
 "metadata": {
  "kernelspec": {
   "display_name": "Python 3",
   "language": "python",
   "name": "python3"
  },
  "language_info": {
   "codemirror_mode": {
    "name": "ipython",
    "version": 3
   },
   "file_extension": ".py",
   "mimetype": "text/x-python",
   "name": "python",
   "nbconvert_exporter": "python",
   "pygments_lexer": "ipython3",
   "version": "3.8.8"
  }
 },
 "nbformat": 4,
 "nbformat_minor": 5
}
