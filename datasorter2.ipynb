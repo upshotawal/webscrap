{
 "cells": [
  {
   "cell_type": "code",
   "execution_count": 1,
   "id": "a27984ee",
   "metadata": {},
   "outputs": [],
   "source": [
    "import pandas as pd\n",
    "import numpy as np"
   ]
  },
  {
   "cell_type": "code",
   "execution_count": 2,
   "id": "a9e7362f",
   "metadata": {},
   "outputs": [
    {
     "data": {
      "text/html": [
       "<div>\n",
       "<style scoped>\n",
       "    .dataframe tbody tr th:only-of-type {\n",
       "        vertical-align: middle;\n",
       "    }\n",
       "\n",
       "    .dataframe tbody tr th {\n",
       "        vertical-align: top;\n",
       "    }\n",
       "\n",
       "    .dataframe thead th {\n",
       "        text-align: right;\n",
       "    }\n",
       "</style>\n",
       "<table border=\"1\" class=\"dataframe\">\n",
       "  <thead>\n",
       "    <tr style=\"text-align: right;\">\n",
       "      <th></th>\n",
       "      <th>Unnamed: 0</th>\n",
       "      <th>title</th>\n",
       "      <th>description</th>\n",
       "      <th>price</th>\n",
       "      <th>rating</th>\n",
       "      <th>review</th>\n",
       "      <th>img5</th>\n",
       "      <th>categories</th>\n",
       "    </tr>\n",
       "  </thead>\n",
       "  <tbody>\n",
       "    <tr>\n",
       "      <th>0</th>\n",
       "      <td>0</td>\n",
       "      <td>Standing Function 2 In 1 Rechargeable Mosquito...</td>\n",
       "      <td>Insect Physical Killer.\\nSafety Double Switch....</td>\n",
       "      <td>2,500</td>\n",
       "      <td>no rating</td>\n",
       "      <td>no review</td>\n",
       "      <td>https://cdn.sastodeal.com/catalog/product/2/6...</td>\n",
       "      <td>Appliences</td>\n",
       "    </tr>\n",
       "    <tr>\n",
       "      <th>1</th>\n",
       "      <td>1</td>\n",
       "      <td>Brushy Cushion 40X40Cm Mtc</td>\n",
       "      <td>Color :- Multicolor\\nMaterial :- Polyester\\nSi...</td>\n",
       "      <td>2,000</td>\n",
       "      <td>no rating</td>\n",
       "      <td>no review</td>\n",
       "      <td>https://cdn.sastodeal.com/catalog/product/2/6...</td>\n",
       "      <td>Appliences</td>\n",
       "    </tr>\n",
       "    <tr>\n",
       "      <th>2</th>\n",
       "      <td>2</td>\n",
       "      <td>Liam Anti Slip Mat 45X65Cm Mtc</td>\n",
       "      <td>Color :- Multicolor\\nMaterial :- Other Plastic...</td>\n",
       "      <td>790</td>\n",
       "      <td>no rating</td>\n",
       "      <td>no review</td>\n",
       "      <td>https://cdn.sastodeal.com/catalog/product/2/6...</td>\n",
       "      <td>Appliences</td>\n",
       "    </tr>\n",
       "    <tr>\n",
       "      <th>3</th>\n",
       "      <td>3</td>\n",
       "      <td>Morgant Canvas Print 40X40Cm Mtc</td>\n",
       "      <td>Color :- Multicolor\\nMaterial :- Canvas\\nSize ...</td>\n",
       "      <td>890</td>\n",
       "      <td>no rating</td>\n",
       "      <td>no review</td>\n",
       "      <td>https://cdn.sastodeal.com/catalog/product/2/6...</td>\n",
       "      <td>Appliences</td>\n",
       "    </tr>\n",
       "    <tr>\n",
       "      <th>4</th>\n",
       "      <td>4</td>\n",
       "      <td>Stage Photo Frame 4X6 Gd</td>\n",
       "      <td>Color :- Gold\\nMaterial :- PS ( Polystyrene )\\...</td>\n",
       "      <td>890</td>\n",
       "      <td>no rating</td>\n",
       "      <td>no review</td>\n",
       "      <td>https://cdn.sastodeal.com/catalog/product/2/6...</td>\n",
       "      <td>Appliences</td>\n",
       "    </tr>\n",
       "  </tbody>\n",
       "</table>\n",
       "</div>"
      ],
      "text/plain": [
       "   Unnamed: 0                                              title  \\\n",
       "0           0  Standing Function 2 In 1 Rechargeable Mosquito...   \n",
       "1           1                         Brushy Cushion 40X40Cm Mtc   \n",
       "2           2                     Liam Anti Slip Mat 45X65Cm Mtc   \n",
       "3           3                   Morgant Canvas Print 40X40Cm Mtc   \n",
       "4           4                           Stage Photo Frame 4X6 Gd   \n",
       "\n",
       "                                         description  price     rating  \\\n",
       "0  Insect Physical Killer.\\nSafety Double Switch....  2,500  no rating   \n",
       "1  Color :- Multicolor\\nMaterial :- Polyester\\nSi...  2,000  no rating   \n",
       "2  Color :- Multicolor\\nMaterial :- Other Plastic...    790  no rating   \n",
       "3  Color :- Multicolor\\nMaterial :- Canvas\\nSize ...    890  no rating   \n",
       "4  Color :- Gold\\nMaterial :- PS ( Polystyrene )\\...    890  no rating   \n",
       "\n",
       "      review                                               img5  categories  \n",
       "0  no review   https://cdn.sastodeal.com/catalog/product/2/6...  Appliences  \n",
       "1  no review   https://cdn.sastodeal.com/catalog/product/2/6...  Appliences  \n",
       "2  no review   https://cdn.sastodeal.com/catalog/product/2/6...  Appliences  \n",
       "3  no review   https://cdn.sastodeal.com/catalog/product/2/6...  Appliences  \n",
       "4  no review   https://cdn.sastodeal.com/catalog/product/2/6...  Appliences  "
      ]
     },
     "execution_count": 2,
     "metadata": {},
     "output_type": "execute_result"
    }
   ],
   "source": [
    "df = pd.read_csv('datagy.csv', encoding='utf-8')\n",
    "df.head()"
   ]
  },
  {
   "cell_type": "code",
   "execution_count": 3,
   "id": "5dac38df",
   "metadata": {},
   "outputs": [
    {
     "data": {
      "text/plain": [
       "Unnamed: 0      int64\n",
       "title          object\n",
       "description    object\n",
       "price          object\n",
       "rating         object\n",
       "review         object\n",
       "img5           object\n",
       "categories     object\n",
       "dtype: object"
      ]
     },
     "execution_count": 3,
     "metadata": {},
     "output_type": "execute_result"
    }
   ],
   "source": [
    "df.dtypes"
   ]
  },
  {
   "cell_type": "code",
   "execution_count": 4,
   "id": "cfe975e8",
   "metadata": {},
   "outputs": [],
   "source": [
    "df['price'] = df['price'].apply(lambda x: x.replace(\",\", \"\"))\n",
    "df['price'] = df['price'].apply(lambda x: x.replace(\"no price\", \"0\"))\n"
   ]
  },
  {
   "cell_type": "code",
   "execution_count": 5,
   "id": "3fd2b416",
   "metadata": {},
   "outputs": [],
   "source": [
    "df['description'] = df['description'].astype(str)"
   ]
  },
  {
   "cell_type": "code",
   "execution_count": 6,
   "id": "ec3583ac",
   "metadata": {},
   "outputs": [
    {
     "data": {
      "text/html": [
       "<div>\n",
       "<style scoped>\n",
       "    .dataframe tbody tr th:only-of-type {\n",
       "        vertical-align: middle;\n",
       "    }\n",
       "\n",
       "    .dataframe tbody tr th {\n",
       "        vertical-align: top;\n",
       "    }\n",
       "\n",
       "    .dataframe thead th {\n",
       "        text-align: right;\n",
       "    }\n",
       "</style>\n",
       "<table border=\"1\" class=\"dataframe\">\n",
       "  <thead>\n",
       "    <tr style=\"text-align: right;\">\n",
       "      <th></th>\n",
       "      <th>Unnamed: 0</th>\n",
       "      <th>title</th>\n",
       "      <th>description</th>\n",
       "      <th>price</th>\n",
       "      <th>rating</th>\n",
       "      <th>review</th>\n",
       "      <th>img5</th>\n",
       "      <th>categories</th>\n",
       "    </tr>\n",
       "  </thead>\n",
       "  <tbody>\n",
       "    <tr>\n",
       "      <th>0</th>\n",
       "      <td>0</td>\n",
       "      <td>Standing Function 2 In 1 Rechargeable Mosquito...</td>\n",
       "      <td>Insect Physical Killer.\\nSafety Double Switch....</td>\n",
       "      <td>2500</td>\n",
       "      <td>no rating</td>\n",
       "      <td>no review</td>\n",
       "      <td>https://cdn.sastodeal.com/catalog/product/2/6...</td>\n",
       "      <td>Appliences</td>\n",
       "    </tr>\n",
       "    <tr>\n",
       "      <th>1</th>\n",
       "      <td>1</td>\n",
       "      <td>Brushy Cushion 40X40Cm Mtc</td>\n",
       "      <td>Color :- Multicolor\\nMaterial :- Polyester\\nSi...</td>\n",
       "      <td>2000</td>\n",
       "      <td>no rating</td>\n",
       "      <td>no review</td>\n",
       "      <td>https://cdn.sastodeal.com/catalog/product/2/6...</td>\n",
       "      <td>Appliences</td>\n",
       "    </tr>\n",
       "    <tr>\n",
       "      <th>2</th>\n",
       "      <td>2</td>\n",
       "      <td>Liam Anti Slip Mat 45X65Cm Mtc</td>\n",
       "      <td>Color :- Multicolor\\nMaterial :- Other Plastic...</td>\n",
       "      <td>790</td>\n",
       "      <td>no rating</td>\n",
       "      <td>no review</td>\n",
       "      <td>https://cdn.sastodeal.com/catalog/product/2/6...</td>\n",
       "      <td>Appliences</td>\n",
       "    </tr>\n",
       "    <tr>\n",
       "      <th>3</th>\n",
       "      <td>3</td>\n",
       "      <td>Morgant Canvas Print 40X40Cm Mtc</td>\n",
       "      <td>Color :- Multicolor\\nMaterial :- Canvas\\nSize ...</td>\n",
       "      <td>890</td>\n",
       "      <td>no rating</td>\n",
       "      <td>no review</td>\n",
       "      <td>https://cdn.sastodeal.com/catalog/product/2/6...</td>\n",
       "      <td>Appliences</td>\n",
       "    </tr>\n",
       "    <tr>\n",
       "      <th>4</th>\n",
       "      <td>4</td>\n",
       "      <td>Stage Photo Frame 4X6 Gd</td>\n",
       "      <td>Color :- Gold\\nMaterial :- PS ( Polystyrene )\\...</td>\n",
       "      <td>890</td>\n",
       "      <td>no rating</td>\n",
       "      <td>no review</td>\n",
       "      <td>https://cdn.sastodeal.com/catalog/product/2/6...</td>\n",
       "      <td>Appliences</td>\n",
       "    </tr>\n",
       "  </tbody>\n",
       "</table>\n",
       "</div>"
      ],
      "text/plain": [
       "   Unnamed: 0                                              title  \\\n",
       "0           0  Standing Function 2 In 1 Rechargeable Mosquito...   \n",
       "1           1                         Brushy Cushion 40X40Cm Mtc   \n",
       "2           2                     Liam Anti Slip Mat 45X65Cm Mtc   \n",
       "3           3                   Morgant Canvas Print 40X40Cm Mtc   \n",
       "4           4                           Stage Photo Frame 4X6 Gd   \n",
       "\n",
       "                                         description price     rating  \\\n",
       "0  Insect Physical Killer.\\nSafety Double Switch....  2500  no rating   \n",
       "1  Color :- Multicolor\\nMaterial :- Polyester\\nSi...  2000  no rating   \n",
       "2  Color :- Multicolor\\nMaterial :- Other Plastic...   790  no rating   \n",
       "3  Color :- Multicolor\\nMaterial :- Canvas\\nSize ...   890  no rating   \n",
       "4  Color :- Gold\\nMaterial :- PS ( Polystyrene )\\...   890  no rating   \n",
       "\n",
       "      review                                               img5  categories  \n",
       "0  no review   https://cdn.sastodeal.com/catalog/product/2/6...  Appliences  \n",
       "1  no review   https://cdn.sastodeal.com/catalog/product/2/6...  Appliences  \n",
       "2  no review   https://cdn.sastodeal.com/catalog/product/2/6...  Appliences  \n",
       "3  no review   https://cdn.sastodeal.com/catalog/product/2/6...  Appliences  \n",
       "4  no review   https://cdn.sastodeal.com/catalog/product/2/6...  Appliences  "
      ]
     },
     "execution_count": 6,
     "metadata": {},
     "output_type": "execute_result"
    }
   ],
   "source": [
    "df.head()"
   ]
  },
  {
   "cell_type": "code",
   "execution_count": 7,
   "id": "f7feb2df",
   "metadata": {},
   "outputs": [],
   "source": [
    "df['price']= df['price'].apply(pd.to_numeric)"
   ]
  },
  {
   "cell_type": "code",
   "execution_count": 8,
   "id": "7f40d5c3",
   "metadata": {},
   "outputs": [
    {
     "data": {
      "text/plain": [
       "Unnamed: 0      int64\n",
       "title          object\n",
       "description    object\n",
       "price           int64\n",
       "rating         object\n",
       "review         object\n",
       "img5           object\n",
       "categories     object\n",
       "dtype: object"
      ]
     },
     "execution_count": 8,
     "metadata": {},
     "output_type": "execute_result"
    }
   ],
   "source": [
    "df.dtypes"
   ]
  },
  {
   "cell_type": "code",
   "execution_count": 9,
   "id": "3064b0e2",
   "metadata": {},
   "outputs": [
    {
     "data": {
      "text/plain": [
       "0      Insect Physical Killer.\\nSafety Double Switch....\n",
       "1      Color :- Multicolor\\nMaterial :- Polyester\\nSi...\n",
       "2      Color :- Multicolor\\nMaterial :- Other Plastic...\n",
       "3      Color :- Multicolor\\nMaterial :- Canvas\\nSize ...\n",
       "4      Color :- Gold\\nMaterial :- PS ( Polystyrene )\\...\n",
       "                             ...                        \n",
       "139    Product details of Teddy Bear For Kid And Adul...\n",
       "140    Product details of Teddy Bear For Kid And Adul...\n",
       "141    Product details of Teddy Bear For Kid And Adul...\n",
       "142    Product details of Teddy Bear For Kid And Adul...\n",
       "143    Product details of Teddy Bear For Kid And Adul...\n",
       "Name: description, Length: 144, dtype: object"
      ]
     },
     "execution_count": 9,
     "metadata": {},
     "output_type": "execute_result"
    }
   ],
   "source": [
    "df['description']"
   ]
  },
  {
   "cell_type": "code",
   "execution_count": null,
   "id": "13ff29df",
   "metadata": {},
   "outputs": [],
   "source": []
  },
  {
   "cell_type": "code",
   "execution_count": 10,
   "id": "6660a949",
   "metadata": {},
   "outputs": [],
   "source": [
    "df.to_csv('gym3.csv')"
   ]
  },
  {
   "cell_type": "code",
   "execution_count": null,
   "id": "7545109b",
   "metadata": {},
   "outputs": [],
   "source": []
  }
 ],
 "metadata": {
  "kernelspec": {
   "display_name": "Python 3 (ipykernel)",
   "language": "python",
   "name": "python3"
  },
  "language_info": {
   "codemirror_mode": {
    "name": "ipython",
    "version": 3
   },
   "file_extension": ".py",
   "mimetype": "text/x-python",
   "name": "python",
   "nbconvert_exporter": "python",
   "pygments_lexer": "ipython3",
   "version": "3.10.1"
  }
 },
 "nbformat": 4,
 "nbformat_minor": 5
}
