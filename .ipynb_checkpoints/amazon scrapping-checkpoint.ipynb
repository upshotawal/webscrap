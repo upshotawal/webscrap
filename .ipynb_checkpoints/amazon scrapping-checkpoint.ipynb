{
 "cells": [
  {
   "cell_type": "code",
   "execution_count": 1,
   "id": "9ba85b0f",
   "metadata": {},
   "outputs": [
    {
     "name": "stdout",
     "output_type": "stream",
     "text": [
      "Requirement already satisfied: autoscraper in c:\\users\\upsho\\appdata\\local\\programs\\python\\python310\\lib\\site-packages (1.1.12)\n",
      "Requirement already satisfied: lxml in c:\\users\\upsho\\appdata\\local\\programs\\python\\python310\\lib\\site-packages (from autoscraper) (4.8.0)\n",
      "Requirement already satisfied: requests in c:\\users\\upsho\\appdata\\local\\programs\\python\\python310\\lib\\site-packages (from autoscraper) (2.27.1)\n",
      "Requirement already satisfied: bs4 in c:\\users\\upsho\\appdata\\local\\programs\\python\\python310\\lib\\site-packages (from autoscraper) (0.0.1)\n",
      "Requirement already satisfied: beautifulsoup4 in c:\\users\\upsho\\appdata\\local\\programs\\python\\python310\\lib\\site-packages (from bs4->autoscraper) (4.10.0)\n",
      "Requirement already satisfied: urllib3<1.27,>=1.21.1 in c:\\users\\upsho\\appdata\\local\\programs\\python\\python310\\lib\\site-packages (from requests->autoscraper) (1.26.8)\n",
      "Requirement already satisfied: idna<4,>=2.5 in c:\\users\\upsho\\appdata\\local\\programs\\python\\python310\\lib\\site-packages (from requests->autoscraper) (3.3)\n",
      "Requirement already satisfied: certifi>=2017.4.17 in c:\\users\\upsho\\appdata\\local\\programs\\python\\python310\\lib\\site-packages (from requests->autoscraper) (2021.10.8)\n",
      "Requirement already satisfied: charset-normalizer~=2.0.0 in c:\\users\\upsho\\appdata\\local\\programs\\python\\python310\\lib\\site-packages (from requests->autoscraper) (2.0.12)\n",
      "Requirement already satisfied: soupsieve>1.2 in c:\\users\\upsho\\appdata\\local\\programs\\python\\python310\\lib\\site-packages (from beautifulsoup4->bs4->autoscraper) (2.3.1)\n"
     ]
    },
    {
     "name": "stderr",
     "output_type": "stream",
     "text": [
      "WARNING: You are using pip version 21.3.1; however, version 22.0.4 is available.\n",
      "You should consider upgrading via the 'C:\\Users\\upsho\\AppData\\Local\\Programs\\Python\\Python310\\python.exe -m pip install --upgrade pip' command.\n"
     ]
    }
   ],
   "source": [
    "!pip install autoscraper"
   ]
  },
  {
   "cell_type": "code",
   "execution_count": 2,
   "id": "c32a7625",
   "metadata": {},
   "outputs": [],
   "source": [
    "from autoscraper import AutoScraper"
   ]
  },
  {
   "cell_type": "code",
   "execution_count": 7,
   "id": "f1492bd8",
   "metadata": {},
   "outputs": [],
   "source": [
    "amazon_url=\"https://www.amazon.in/s?k=iphones\"\n",
    "\n",
    "wanted_list=[\"₹47,990\",\"Apple iPhone 11 (64GB) - Black\",\"https://m.media-amazon.com/images/I/71i2XhHU3pL._AC_UY218_.jpg\"]"
   ]
  },
  {
   "cell_type": "code",
   "execution_count": 8,
   "id": "11cc44b8",
   "metadata": {},
   "outputs": [
    {
     "name": "stdout",
     "output_type": "stream",
     "text": [
      "['₹47,990', '₹49,900', '₹58,999', '₹84,900', '₹73,990', '₹79,900', '₹74,900', '₹59,999', '₹70,900', '₹42,999', '₹52,900', '₹53,999', '₹65,900', '₹52,990', '₹54,900', '₹1,19,900', 'Apple iPhone 11 (64GB) - Black', 'Apple iPhone 11 (64GB) - White', 'Apple iPhone 12 (128GB) - Blue', 'Apple iPhone 13 (128GB) - Blue', 'Apple iPhone 13 (128GB) - Starlight', 'Apple iPhone 12 (128GB) - Black', 'Apple iPhone XR (128GB) - (Product) RED', 'Apple iPhone 12 (64GB) - Blue', 'Apple iPhone 11 (128GB) - Purple', 'Apple iPhone XR (128GB) - Coral', 'Apple iPhone 11 (128GB) - White', 'Apple iPhone 13 (128GB) - Midnight', 'Apple iPhone 11 (64GB) - (Product) RED', 'Apple iPhone 13 Pro (128GB) - Sierra Blue', 'Apple iPhone 13 Mini (256 GB) - Green', 'Apple iPhone 13 (128GB) - (Product) RED', 'https://m.media-amazon.com/images/I/71i2XhHU3pL._AC_UY218_.jpg', 'https://m.media-amazon.com/images/I/71QE00iB9IL._AC_UY218_.jpg', 'https://m.media-amazon.com/images/I/71ZOtNdaZCL._AC_UY218_.jpg', 'https://m.media-amazon.com/images/I/71xb2xkN5qL._AC_UY218_.jpg', 'https://m.media-amazon.com/images/I/71GLMJ7TQiL._AC_UY218_.jpg', 'https://m.media-amazon.com/images/I/71fVoqRC0wL._AC_UY218_.jpg', 'https://m.media-amazon.com/images/I/51YXG1bDM5L._AC_UY218_.jpg', 'https://m.media-amazon.com/images/I/71tpxtLD0aL._AC_UY218_.jpg', 'https://m.media-amazon.com/images/I/51cCOStn+rL._AC_UY218_.jpg', 'https://m.media-amazon.com/images/I/61VuVU94RnL._AC_UY218_.jpg', 'https://m.media-amazon.com/images/I/71hh7cpWadL._AC_UY218_.jpg', 'https://m.media-amazon.com/images/I/61jLiCovxVL._AC_UY218_.jpg', 'https://m.media-amazon.com/images/I/61cMQeVEGKL._AC_UY218_.jpg', 'https://m.media-amazon.com/images/I/71gm8v4uPBL._AC_UY218_.jpg']\n"
     ]
    }
   ],
   "source": [
    "scraper=AutoScraper()\n",
    "result=scraper.build(amazon_url,wanted_list)\n",
    "print(result)"
   ]
  },
  {
   "cell_type": "code",
   "execution_count": 10,
   "id": "32cef483",
   "metadata": {},
   "outputs": [
    {
     "data": {
      "text/plain": [
       "{'rule_lmcj': ['₹47,990',\n",
       "  '₹49,900',\n",
       "  '₹49,900',\n",
       "  '₹58,999',\n",
       "  '₹84,900',\n",
       "  '₹73,990',\n",
       "  '₹79,900',\n",
       "  '₹74,900',\n",
       "  '₹79,900',\n",
       "  '₹59,999',\n",
       "  '₹70,900',\n",
       "  '₹42,999',\n",
       "  '₹52,900',\n",
       "  '₹53,999',\n",
       "  '₹65,900',\n",
       "  '₹52,990',\n",
       "  '₹54,900',\n",
       "  '₹42,999',\n",
       "  '₹52,900',\n",
       "  '₹52,990',\n",
       "  '₹54,900',\n",
       "  '₹73,990',\n",
       "  '₹79,900',\n",
       "  '₹47,990',\n",
       "  '₹49,900',\n",
       "  '₹1,19,900',\n",
       "  '₹79,900',\n",
       "  '₹73,990',\n",
       "  '₹79,900'],\n",
       " 'rule_hrhl': ['₹47,990',\n",
       "  '₹49,900',\n",
       "  '₹49,900',\n",
       "  '₹58,999',\n",
       "  '₹84,900',\n",
       "  '₹73,990',\n",
       "  '₹79,900',\n",
       "  '₹74,900',\n",
       "  '₹79,900',\n",
       "  '₹59,999',\n",
       "  '₹70,900',\n",
       "  '₹42,999',\n",
       "  '₹52,900',\n",
       "  '₹53,999',\n",
       "  '₹65,900',\n",
       "  '₹52,990',\n",
       "  '₹54,900',\n",
       "  '₹42,999',\n",
       "  '₹52,900',\n",
       "  '₹52,990',\n",
       "  '₹54,900',\n",
       "  '₹73,990',\n",
       "  '₹79,900',\n",
       "  '₹47,990',\n",
       "  '₹49,900',\n",
       "  '₹1,19,900',\n",
       "  '₹79,900',\n",
       "  '₹73,990',\n",
       "  '₹79,900'],\n",
       " 'rule_1r0k': ['₹47,990',\n",
       "  '₹49,900',\n",
       "  '₹49,900',\n",
       "  '₹58,999',\n",
       "  '₹84,900',\n",
       "  '₹73,990',\n",
       "  '₹79,900',\n",
       "  '₹74,900',\n",
       "  '₹79,900',\n",
       "  '₹59,999',\n",
       "  '₹70,900',\n",
       "  '₹42,999',\n",
       "  '₹52,900',\n",
       "  '₹53,999',\n",
       "  '₹65,900',\n",
       "  '₹52,990',\n",
       "  '₹54,900',\n",
       "  '₹42,999',\n",
       "  '₹52,900',\n",
       "  '₹52,990',\n",
       "  '₹54,900',\n",
       "  '₹73,990',\n",
       "  '₹79,900',\n",
       "  '₹47,990',\n",
       "  '₹49,900',\n",
       "  '₹1,19,900',\n",
       "  '₹79,900',\n",
       "  '₹73,990',\n",
       "  '₹79,900'],\n",
       " 'rule_1329': ['₹47,990',\n",
       "  '₹49,900',\n",
       "  '₹49,900',\n",
       "  '₹58,999',\n",
       "  '₹84,900',\n",
       "  '₹73,990',\n",
       "  '₹79,900',\n",
       "  '₹74,900',\n",
       "  '₹79,900',\n",
       "  '₹59,999',\n",
       "  '₹70,900',\n",
       "  '₹42,999',\n",
       "  '₹52,900',\n",
       "  '₹53,999',\n",
       "  '₹65,900',\n",
       "  '₹52,990',\n",
       "  '₹54,900',\n",
       "  '₹42,999',\n",
       "  '₹52,900',\n",
       "  '₹52,990',\n",
       "  '₹54,900',\n",
       "  '₹73,990',\n",
       "  '₹79,900',\n",
       "  '₹47,990',\n",
       "  '₹49,900',\n",
       "  '₹1,19,900',\n",
       "  '₹79,900',\n",
       "  '₹73,990',\n",
       "  '₹79,900'],\n",
       " 'rule_uo7l': ['Apple iPhone 11 (64GB) - Black',\n",
       "  'Apple iPhone 11 (64GB) - White',\n",
       "  'Apple iPhone 12 (128GB) - Blue',\n",
       "  'Apple iPhone 13 (128GB) - Blue',\n",
       "  'Apple iPhone 13 (128GB) - Starlight',\n",
       "  'Apple iPhone 12 (128GB) - Black',\n",
       "  'Apple iPhone XR (128GB) - (Product) RED',\n",
       "  'Apple iPhone 12 (64GB) - Blue',\n",
       "  'Apple iPhone 11 (128GB) - Purple',\n",
       "  'Apple iPhone XR (128GB) - Coral',\n",
       "  'Apple iPhone 11 (128GB) - White',\n",
       "  'Apple iPhone 13 (128GB) - Midnight',\n",
       "  'Apple iPhone 11 (64GB) - (Product) RED',\n",
       "  'Apple iPhone 13 Pro (128GB) - Sierra Blue',\n",
       "  'Apple iPhone 13 Mini (256 GB) - Green',\n",
       "  'Apple iPhone 13 (128GB) - (Product) RED'],\n",
       " 'rule_fujn': ['Apple iPhone 11 (64GB) - Black',\n",
       "  'Apple iPhone 11 (64GB) - White',\n",
       "  'Apple iPhone 12 (128GB) - Blue',\n",
       "  'Apple iPhone 13 (128GB) - Blue',\n",
       "  'Apple iPhone 13 (128GB) - Starlight',\n",
       "  'Apple iPhone 12 (128GB) - Black',\n",
       "  'Apple iPhone XR (128GB) - (Product) RED',\n",
       "  'Apple iPhone 12 (64GB) - Blue',\n",
       "  'Apple iPhone 11 (128GB) - Purple',\n",
       "  'Apple iPhone XR (128GB) - Coral',\n",
       "  'Apple iPhone 11 (128GB) - White',\n",
       "  'Apple iPhone 13 (128GB) - Midnight',\n",
       "  'Apple iPhone 11 (64GB) - (Product) RED',\n",
       "  'Apple iPhone 13 Pro (128GB) - Sierra Blue',\n",
       "  'Apple iPhone 13 Mini (256 GB) - Green',\n",
       "  'Apple iPhone 13 (128GB) - (Product) RED'],\n",
       " 'rule_zhi1': ['https://m.media-amazon.com/images/I/71i2XhHU3pL._AC_UY218_.jpg',\n",
       "  'https://m.media-amazon.com/images/I/71QE00iB9IL._AC_UY218_.jpg',\n",
       "  'https://m.media-amazon.com/images/I/71ZOtNdaZCL._AC_UY218_.jpg',\n",
       "  'https://m.media-amazon.com/images/I/71xb2xkN5qL._AC_UY218_.jpg',\n",
       "  'https://m.media-amazon.com/images/I/71GLMJ7TQiL._AC_UY218_.jpg',\n",
       "  'https://m.media-amazon.com/images/I/71fVoqRC0wL._AC_UY218_.jpg',\n",
       "  'https://m.media-amazon.com/images/I/51YXG1bDM5L._AC_UY218_.jpg',\n",
       "  'https://m.media-amazon.com/images/I/71ZOtNdaZCL._AC_UY218_.jpg',\n",
       "  'https://m.media-amazon.com/images/I/71tpxtLD0aL._AC_UY218_.jpg',\n",
       "  'https://m.media-amazon.com/images/I/51cCOStn+rL._AC_UY218_.jpg',\n",
       "  'https://m.media-amazon.com/images/I/71QE00iB9IL._AC_UY218_.jpg',\n",
       "  'https://m.media-amazon.com/images/I/61VuVU94RnL._AC_UY218_.jpg',\n",
       "  'https://m.media-amazon.com/images/I/71hh7cpWadL._AC_UY218_.jpg',\n",
       "  'https://m.media-amazon.com/images/I/61jLiCovxVL._AC_UY218_.jpg',\n",
       "  'https://m.media-amazon.com/images/I/61cMQeVEGKL._AC_UY218_.jpg',\n",
       "  'https://m.media-amazon.com/images/I/71gm8v4uPBL._AC_UY218_.jpg']}"
      ]
     },
     "execution_count": 10,
     "metadata": {},
     "output_type": "execute_result"
    }
   ],
   "source": [
    "scraper.get_result_similar(amazon_url,grouped=True)"
   ]
  },
  {
   "cell_type": "code",
   "execution_count": 12,
   "id": "3b1d93c4",
   "metadata": {},
   "outputs": [],
   "source": [
    "scraper.set_rule_aliases({'rule_uo7l':'Title','rule_lmcj':'Price','rule_zhi1':'images'})\n",
    "scraper.keep_rules(['rule_uo7l','rule_lmcj','rule_zhi1'])\n",
    "scraper.save('amazon-search')"
   ]
  },
  {
   "cell_type": "code",
   "execution_count": 13,
   "id": "e9f46ecb",
   "metadata": {},
   "outputs": [],
   "source": [
    "results=scraper.get_result_similar('https://www.amazon.in/s?k=mi+phones+under+15000',group_by_alias=True)"
   ]
  },
  {
   "cell_type": "code",
   "execution_count": 33,
   "id": "c6ddeb9a",
   "metadata": {},
   "outputs": [
    {
     "data": {
      "text/plain": [
       "{'Price': ['₹12,999',\n",
       "  '₹29,999',\n",
       "  '₹8,490',\n",
       "  '₹14,999',\n",
       "  '₹13,999',\n",
       "  '₹17,999',\n",
       "  '₹12,990',\n",
       "  '₹13,490',\n",
       "  '₹13,999',\n",
       "  '₹14,500',\n",
       "  '₹15,999',\n",
       "  '₹13,990',\n",
       "  '₹14,999',\n",
       "  '₹8,999',\n",
       "  '₹10,499',\n",
       "  '₹12,799',\n",
       "  '₹15,999',\n",
       "  '₹13,990',\n",
       "  '₹14,999',\n",
       "  '₹14,800',\n",
       "  '₹16,999',\n",
       "  '₹12,999',\n",
       "  '₹15,999',\n",
       "  '₹12,450',\n",
       "  '₹16,999'],\n",
       " 'Title': ['(Renewed) Mi Mix 2 (Black)',\n",
       "  'Mi Xiaomi Max (Gold, 32GB)',\n",
       "  '(Renewed) MI Poco M2 Pro (Two Shades of Black, 6GB RAM, 64GB Storage)',\n",
       "  'MI Poco M2 (Brick Red, 6GB RAM, 64GB Storage)',\n",
       "  'Mi Redmi -Note 7S (Sapphire Blue, 64GB, 4GB RAM)',\n",
       "  'Mi Note 7 Pro (Neptune Blue, 64GB, 6GB RAM)',\n",
       "  'MI Poco M2 (Brick Red, 6GB RAM, 128GB Storage)',\n",
       "  '(Renewed) Mi Redmi 5 (Gold, 32GB)',\n",
       "  'Redmi 4A (Gold, 16GB)',\n",
       "  '(Renewed) Redmi 6 Pro (Blue, 4GB RAM, 64GB Storage)',\n",
       "  '(Renewed) MI Poco M2 Pro (Two Shades of Black, 4GB RAM, 64GB Internal Storage)',\n",
       "  'MI Poco M2 (Pitch Black, 6GB RAM, 128GB Storage)',\n",
       "  '(Renewed) MI Poco M2 Pro (Out of The Blue, 4GB RAM, 64GB Storage)',\n",
       "  'REDMI 9i Sport (Carbon Black, 64 GB) (4 GB RAM)',\n",
       "  '(Renewed) Redmi Note 6 Pro (Black, 64 GB, 4 GB RAM)',\n",
       "  '(Renewed) Redmi Note 5 Pro (Rose Gold, 64 GB) (6 GB RAM)'],\n",
       " 'images': ['https://m.media-amazon.com/images/I/51iv339qvkL._AC_UY218_.jpg',\n",
       "  'https://m.media-amazon.com/images/I/81GiLcubFhL._AC_UY218_.jpg',\n",
       "  'https://m.media-amazon.com/images/I/61YpaCFkVrL._AC_UY218_.jpg',\n",
       "  'https://m.media-amazon.com/images/I/81UQWt+8PEL._AC_UY218_.jpg',\n",
       "  'https://m.media-amazon.com/images/I/91k6WOeSlJL._AC_UY218_.jpg',\n",
       "  'https://m.media-amazon.com/images/I/61GCPIkotsL._AC_UY218_.jpg',\n",
       "  'https://m.media-amazon.com/images/I/81UQWt+8PEL._AC_UY218_.jpg',\n",
       "  'https://m.media-amazon.com/images/I/81ORlGLUzWL._AC_UY218_.jpg',\n",
       "  'https://m.media-amazon.com/images/I/81lDYg9zuwL._AC_UY218_.jpg',\n",
       "  'https://m.media-amazon.com/images/I/81CXU6r5PmL._AC_UY218_.jpg',\n",
       "  'https://m.media-amazon.com/images/I/61YpaCFkVrL._AC_UY218_.jpg',\n",
       "  'https://m.media-amazon.com/images/I/71s8YAScnBL._AC_UY218_.jpg',\n",
       "  'https://m.media-amazon.com/images/I/61HmzZD3OGL._AC_UY218_.jpg',\n",
       "  'https://m.media-amazon.com/images/I/61W1LoulxmL._AC_UY218_.jpg',\n",
       "  'https://m.media-amazon.com/images/I/51artJnXjOL._AC_UY218_.jpg',\n",
       "  'https://m.media-amazon.com/images/I/51DV8oPIyJL._AC_UY218_.jpg']}"
      ]
     },
     "execution_count": 33,
     "metadata": {},
     "output_type": "execute_result"
    }
   ],
   "source": [
    "results"
   ]
  },
  {
   "cell_type": "code",
   "execution_count": 40,
   "id": "3ebf5d72",
   "metadata": {},
   "outputs": [],
   "source": [
    "data = results"
   ]
  },
  {
   "cell_type": "code",
   "execution_count": 44,
   "id": "d3c79518",
   "metadata": {},
   "outputs": [
    {
     "ename": "NameError",
     "evalue": "name 'Price' is not defined",
     "output_type": "error",
     "traceback": [
      "\u001b[1;31m---------------------------------------------------------------------------\u001b[0m",
      "\u001b[1;31mNameError\u001b[0m                                 Traceback (most recent call last)",
      "\u001b[1;32m~\\AppData\\Local\\Temp/ipykernel_3824/3598405768.py\u001b[0m in \u001b[0;36m<module>\u001b[1;34m\u001b[0m\n\u001b[0;32m      1\u001b[0m \u001b[1;32mimport\u001b[0m \u001b[0mpandas\u001b[0m \u001b[1;32mas\u001b[0m \u001b[0mpd\u001b[0m\u001b[1;33m\u001b[0m\u001b[1;33m\u001b[0m\u001b[0m\n\u001b[1;32m----> 2\u001b[1;33m \u001b[0mdf\u001b[0m \u001b[1;33m=\u001b[0m\u001b[0mpd\u001b[0m\u001b[1;33m.\u001b[0m\u001b[0mDataFrame\u001b[0m\u001b[1;33m(\u001b[0m\u001b[0mdata\u001b[0m\u001b[1;33m,\u001b[0m\u001b[0mcolumns\u001b[0m \u001b[1;33m=\u001b[0m\u001b[1;33m[\u001b[0m\u001b[1;33m{\u001b[0m\u001b[1;34m'Price'\u001b[0m\u001b[1;33m:\u001b[0m\u001b[0mPrice\u001b[0m\u001b[1;33m,\u001b[0m\u001b[1;34m'Title'\u001b[0m\u001b[1;33m:\u001b[0m\u001b[0mTitle\u001b[0m\u001b[1;33m,\u001b[0m\u001b[1;34m'images'\u001b[0m\u001b[1;33m:\u001b[0m\u001b[0mimages\u001b[0m\u001b[1;33m}\u001b[0m\u001b[1;33m]\u001b[0m\u001b[1;33m)\u001b[0m\u001b[1;33m\u001b[0m\u001b[1;33m\u001b[0m\u001b[0m\n\u001b[0m",
      "\u001b[1;31mNameError\u001b[0m: name 'Price' is not defined"
     ]
    }
   ],
   "source": [
    "import pandas as pd\n",
    "df =pd.DataFrame(data,columns =[{'Price':Price,'Title':Title,'images':images}])"
   ]
  },
  {
   "cell_type": "code",
   "execution_count": 30,
   "id": "ca60befe",
   "metadata": {},
   "outputs": [],
   "source": [
    "df.to_csv('image.csv')"
   ]
  },
  {
   "cell_type": "code",
   "execution_count": null,
   "id": "b61b880a",
   "metadata": {},
   "outputs": [],
   "source": []
  }
 ],
 "metadata": {
  "kernelspec": {
   "display_name": "Python 3 (ipykernel)",
   "language": "python",
   "name": "python3"
  },
  "language_info": {
   "codemirror_mode": {
    "name": "ipython",
    "version": 3
   },
   "file_extension": ".py",
   "mimetype": "text/x-python",
   "name": "python",
   "nbconvert_exporter": "python",
   "pygments_lexer": "ipython3",
   "version": "3.10.1"
  }
 },
 "nbformat": 4,
 "nbformat_minor": 5
}
