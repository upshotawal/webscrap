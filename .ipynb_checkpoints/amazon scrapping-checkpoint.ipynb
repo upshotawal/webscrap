{
 "cells": [
  {
   "cell_type": "code",
   "execution_count": null,
   "id": "9ba85b0f",
   "metadata": {},
   "outputs": [],
   "source": []
  },
  {
   "cell_type": "code",
   "execution_count": 9,
   "id": "c32a7625",
   "metadata": {},
   "outputs": [],
   "source": [
    "from autoscraper import AutoScraper"
   ]
  },
  {
   "cell_type": "code",
   "execution_count": 10,
   "id": "f1492bd8",
   "metadata": {},
   "outputs": [
    {
     "name": "stdout",
     "output_type": "stream",
     "text": [
      "https://www.amazon.in/s?k=iphone+11+silver&s=price-desc-rank\n"
     ]
    }
   ],
   "source": [
    "search = \"iphone+11+silver\"\n",
    "amazon_url=\"https://www.amazon.in/s?k={}&s=price-desc-rank\".format(search)\n",
    "print(amazon_url)"
   ]
  },
  {
   "cell_type": "code",
   "execution_count": 17,
   "id": "48ec5390",
   "metadata": {},
   "outputs": [],
   "source": [
    "wanted_list=[\"https://m.media-amazon.com/images/I/61D84NtVgVL._AC_UY218_.jpg\",\"Apple iPhone 13 Pro Max (512GB) - Silver\",\"1,59,900 \",\"563\"]"
   ]
  },
  {
   "cell_type": "code",
   "execution_count": 18,
   "id": "11cc44b8",
   "metadata": {},
   "outputs": [],
   "source": [
    "scraper=AutoScraper()\n",
    "result=scraper.build(amazon_url,wanted_list)\n"
   ]
  },
  {
   "cell_type": "code",
   "execution_count": 19,
   "id": "32cef483",
   "metadata": {
    "scrolled": true
   },
   "outputs": [],
   "source": [
    "data = scraper.get_result_similar(amazon_url,grouped=True)"
   ]
  },
  {
   "cell_type": "code",
   "execution_count": 20,
   "id": "3b1d93c4",
   "metadata": {},
   "outputs": [
    {
     "name": "stdout",
     "output_type": "stream",
     "text": [
      "{'rule_tfhv': ['https://m.media-amazon.com/images/I/61D84NtVgVL._AC_UY218_.jpg', 'https://m.media-amazon.com/images/I/71EutNNZBtL._AC_UY218_.jpg', 'https://m.media-amazon.com/images/I/61eDXs9QFNL._AC_UY218_.jpg', 'https://m.media-amazon.com/images/I/619m8rLBQSL._AC_UY218_.jpg', 'https://m.media-amazon.com/images/I/71yW0fT6SUS._AC_UY218_.jpg', 'https://m.media-amazon.com/images/I/71QTTTHqbqL._AC_UY218_.jpg', 'https://m.media-amazon.com/images/I/611ovP2GkrL._AC_UY218_.jpg', 'https://m.media-amazon.com/images/I/61IJBsHm97L._AC_UY218_.jpg', 'https://m.media-amazon.com/images/I/61sDyXAepuL._AC_UY218_.jpg', 'https://m.media-amazon.com/images/I/61jLiCovxVL._AC_UY218_.jpg', 'https://m.media-amazon.com/images/I/61AwGDDZd3L._AC_UY218_.jpg', 'https://m.media-amazon.com/images/I/61eDXs9QFNL._AC_UY218_.jpg', 'https://m.media-amazon.com/images/I/617FFRO3vcL._AC_UY218_.jpg', 'https://m.media-amazon.com/images/I/71fJ-gmBZtL._AC_UY218_.jpg', 'https://m.media-amazon.com/images/I/61jLiCovxVL._AC_UY218_.jpg', 'https://m.media-amazon.com/images/I/61AwGDDZd3L._AC_UY218_.jpg'], 'rule_aca3': ['Apple iPhone 13 Pro Max (512GB) - Silver', 'New Apple iPhone 12 Pro Max (256GB) - Gold with Apple AirPods Pro', 'Apple iPhone 13 Pro (512GB) - Graphite', 'Apple iPhone 13 Pro Max (256GB) - Gold', 'New Apple iPhone 12 Pro Max (256GB) - Gold with Apple Clear Case with Magsafe (for iPhone 12 Pro Max)', 'New Apple iPhone 12 Pro Max (256GB) - Gold with Apple 20W USB-C Power Adapter', 'Apple iPhone 13 Pro Max (128 GB) - Alpine Green', 'Apple iPhone 13 Pro Max (128GB) - Graphite', 'Apple iPhone 13 Pro (256GB) - Gold', 'Apple iPhone 13 Pro (256GB) - Sierra Blue', 'Apple iPhone 13 Pro (256 GB) - Alpine Green', 'Apple iPhone 13 Pro (256GB) - Graphite', 'Apple iPhone 13 Pro (256GB) - Silver', 'Apple iPhone 12 Pro Max (256GB) - Gold', 'Apple iPhone 13 Pro (128GB) - Sierra Blue', 'Apple iPhone 13 Pro (128 GB) - Alpine Green'], 'rule_25mu': ['Apple iPhone 13 Pro Max (512GB) - Silver', 'New Apple iPhone 12 Pro Max (256GB) - Gold with Apple AirPods Pro', 'Apple iPhone 13 Pro (512GB) - Graphite', 'Apple iPhone 13 Pro Max (256GB) - Gold', 'New Apple iPhone 12 Pro Max (256GB) - Gold with Apple Clear Case with Magsafe (for iPhone 12 Pro Max)', 'New Apple iPhone 12 Pro Max (256GB) - Gold with Apple 20W USB-C Power Adapter', 'Apple iPhone 13 Pro Max (128 GB) - Alpine Green', 'Apple iPhone 13 Pro Max (128GB) - Graphite', 'Apple iPhone 13 Pro (256GB) - Gold', 'Apple iPhone 13 Pro (256GB) - Sierra Blue', 'Apple iPhone 13 Pro (256 GB) - Alpine Green', 'Apple iPhone 13 Pro (256GB) - Graphite', 'Apple iPhone 13 Pro (256GB) - Silver', 'Apple iPhone 12 Pro Max (256GB) - Gold', 'Apple iPhone 13 Pro (128GB) - Sierra Blue', 'Apple iPhone 13 Pro (128 GB) - Alpine Green'], 'rule_apyw': ['1,59,900', '1,50,800', '1,49,900', '1,39,900', '1,34,800', '1,31,799', '1,29,900', '1,29,900', '1,29,900', '1,29,900', '1,29,900', '1,29,900', '1,29,900', '1,29,900', '1,19,900', '1,19,900'], 'rule_7tsl': ['563', '1,539', '448', '563', '1,539', '1,539', '563', '563', '448', '448', '448', '448', '448', '1,539', '448', '448'], 'rule_qvz3': ['563', '1,539', '448', '563', '1,539', '1,539', '563', '563', '448', '448', '448', '448', '448', '1,539', '448', '448'], 'rule_iupe': ['563', '1,539', '448', '563', '1,539', '1,539', '563', '563', '448', '448', '448', '448', '448', '1,539', '448', '448'], 'rule_7jkw': ['563', '1,539', '448', '563', '1,539', '1,539', '563', '563', '448', '448', '448', '448', '448', '1,539', '448', '448']}\n"
     ]
    }
   ],
   "source": [
    "print(data)"
   ]
  },
  {
   "cell_type": "code",
   "execution_count": 21,
   "id": "e9f46ecb",
   "metadata": {},
   "outputs": [
    {
     "name": "stdout",
     "output_type": "stream",
     "text": [
      "['rule_tfhv', 'rule_aca3', 'rule_25mu', 'rule_apyw', 'rule_7tsl', 'rule_qvz3', 'rule_iupe', 'rule_7jkw']\n"
     ]
    }
   ],
   "source": [
    "keys = list(data.keys())\n",
    "print(keys)"
   ]
  },
  {
   "cell_type": "code",
   "execution_count": 22,
   "id": "c6ddeb9a",
   "metadata": {},
   "outputs": [],
   "source": [
    "scraper.set_rule_aliases({str(keys[0]):'ImageUrl',str(keys[2]):'Title',str(keys[-2]):'Price',str(keys[-1]):'Reviews'})"
   ]
  },
  {
   "cell_type": "code",
   "execution_count": 25,
   "id": "3ebf5d72",
   "metadata": {},
   "outputs": [],
   "source": [
    "scraper.save(\"amazon_in.json\")"
   ]
  },
  {
   "cell_type": "markdown",
   "id": "eab4fc9b",
   "metadata": {},
   "source": [
    "# Testing for other search word"
   ]
  },
  {
   "cell_type": "code",
   "execution_count": 26,
   "id": "ca60befe",
   "metadata": {},
   "outputs": [],
   "source": [
    "amazon_scraper = AutoScraper()\n",
    "amazon_scraper.load('amazon_in.json')"
   ]
  },
  {
   "cell_type": "code",
   "execution_count": 27,
   "id": "b61b880a",
   "metadata": {},
   "outputs": [],
   "source": [
    "search = \"samsung phones\"\n",
    "amazon_url=\"https://www.amazon.in/s?k={}&s=price-desc-rank\".format(search)\n",
    "\n",
    "data = amazon_scraper.get_result_similar(amazon_url, group_by_alias=True)\n",
    "search_data = tuple(zip(data['Title'],data['ImageUrl'],data['Price'],data['Reviews']))"
   ]
  },
  {
   "cell_type": "code",
   "execution_count": 30,
   "id": "712465f3",
   "metadata": {},
   "outputs": [],
   "source": [
    "import pandas as pd\n",
    "df = pd.DataFrame(columns=['Query','Title','Price','Reviews','ImageUrl'])\n",
    "for i in range(len(search_data)):\n",
    "    df.loc[len(df)] = [search,search_data[i][0],search_data[i][2],search_data[i][3],search_data[i][1]]"
   ]
  },
  {
   "cell_type": "code",
   "execution_count": 31,
   "id": "45a426e3",
   "metadata": {},
   "outputs": [
    {
     "name": "stdout",
     "output_type": "stream",
     "text": [
      "(13, 5)\n"
     ]
    },
    {
     "data": {
      "text/html": [
       "<div>\n",
       "<style scoped>\n",
       "    .dataframe tbody tr th:only-of-type {\n",
       "        vertical-align: middle;\n",
       "    }\n",
       "\n",
       "    .dataframe tbody tr th {\n",
       "        vertical-align: top;\n",
       "    }\n",
       "\n",
       "    .dataframe thead th {\n",
       "        text-align: right;\n",
       "    }\n",
       "</style>\n",
       "<table border=\"1\" class=\"dataframe\">\n",
       "  <thead>\n",
       "    <tr style=\"text-align: right;\">\n",
       "      <th></th>\n",
       "      <th>Query</th>\n",
       "      <th>Title</th>\n",
       "      <th>Price</th>\n",
       "      <th>Reviews</th>\n",
       "      <th>ImageUrl</th>\n",
       "    </tr>\n",
       "  </thead>\n",
       "  <tbody>\n",
       "    <tr>\n",
       "      <th>0</th>\n",
       "      <td>samsung phones</td>\n",
       "      <td>Samsung Galaxy Z Fold3 5G (Phantom Black, 12GB...</td>\n",
       "      <td>122</td>\n",
       "      <td>122</td>\n",
       "      <td>https://m.media-amazon.com/images/I/31o+x2w1q5...</td>\n",
       "    </tr>\n",
       "    <tr>\n",
       "      <th>1</th>\n",
       "      <td>samsung phones</td>\n",
       "      <td>Samsung Galaxy Z Fold3 5G (Phantom Black, 12GB...</td>\n",
       "      <td>122</td>\n",
       "      <td>122</td>\n",
       "      <td>https://m.media-amazon.com/images/I/31-ru50w-k...</td>\n",
       "    </tr>\n",
       "    <tr>\n",
       "      <th>2</th>\n",
       "      <td>samsung phones</td>\n",
       "      <td>Samsung Galaxy Z Fold3 5G (Phantom Black, 12GB...</td>\n",
       "      <td>122</td>\n",
       "      <td>122</td>\n",
       "      <td>https://m.media-amazon.com/images/I/71MmJNwZcM...</td>\n",
       "    </tr>\n",
       "    <tr>\n",
       "      <th>3</th>\n",
       "      <td>samsung phones</td>\n",
       "      <td>Samsung Galaxy Z Fold3 5G (Phantom Silver, 12G...</td>\n",
       "      <td>122</td>\n",
       "      <td>122</td>\n",
       "      <td>https://m.media-amazon.com/images/I/31evxtQecY...</td>\n",
       "    </tr>\n",
       "    <tr>\n",
       "      <th>4</th>\n",
       "      <td>samsung phones</td>\n",
       "      <td>Samsung Galaxy Z Fold3 5G (Phantom Silver, 12G...</td>\n",
       "      <td>122</td>\n",
       "      <td>122</td>\n",
       "      <td>https://m.media-amazon.com/images/I/31+RR-Qglo...</td>\n",
       "    </tr>\n",
       "    <tr>\n",
       "      <th>5</th>\n",
       "      <td>samsung phones</td>\n",
       "      <td>Samsung Galaxy Z Fold3 5G (Phantom Green, 12GB...</td>\n",
       "      <td>122</td>\n",
       "      <td>122</td>\n",
       "      <td>https://m.media-amazon.com/images/I/51bmCrxIhM...</td>\n",
       "    </tr>\n",
       "    <tr>\n",
       "      <th>6</th>\n",
       "      <td>samsung phones</td>\n",
       "      <td>Samsung Galaxy Z Fold3 5G (Phantom Green, 12GB...</td>\n",
       "      <td>122</td>\n",
       "      <td>122</td>\n",
       "      <td>https://m.media-amazon.com/images/I/51T6vw1LTG...</td>\n",
       "    </tr>\n",
       "    <tr>\n",
       "      <th>7</th>\n",
       "      <td>samsung phones</td>\n",
       "      <td>Samsung Galaxy Z Fold3 5G (Phantom Black, 12GB...</td>\n",
       "      <td>122</td>\n",
       "      <td>122</td>\n",
       "      <td>https://m.media-amazon.com/images/I/71MmJNwZcM...</td>\n",
       "    </tr>\n",
       "    <tr>\n",
       "      <th>8</th>\n",
       "      <td>samsung phones</td>\n",
       "      <td>Samsung Galaxy Z Fold3 5G (Phantom Silver, 12G...</td>\n",
       "      <td>122</td>\n",
       "      <td>122</td>\n",
       "      <td>https://m.media-amazon.com/images/I/71UmO2UOiB...</td>\n",
       "    </tr>\n",
       "    <tr>\n",
       "      <th>9</th>\n",
       "      <td>samsung phones</td>\n",
       "      <td>Samsung Galaxy Z Fold3 5G (Phantom Green, 12GB...</td>\n",
       "      <td>122</td>\n",
       "      <td>122</td>\n",
       "      <td>https://m.media-amazon.com/images/I/71MdaT+vH1...</td>\n",
       "    </tr>\n",
       "    <tr>\n",
       "      <th>10</th>\n",
       "      <td>samsung phones</td>\n",
       "      <td>Samsung Galaxy Z Fold3 with Snapdragon 888 Sin...</td>\n",
       "      <td>133</td>\n",
       "      <td>133</td>\n",
       "      <td>https://m.media-amazon.com/images/I/71cpumiTZ0...</td>\n",
       "    </tr>\n",
       "    <tr>\n",
       "      <th>11</th>\n",
       "      <td>samsung phones</td>\n",
       "      <td>Samsung Galaxy Z Fold3 with Snapdragon 888 Sin...</td>\n",
       "      <td>193</td>\n",
       "      <td>193</td>\n",
       "      <td>https://m.media-amazon.com/images/I/71yw+qKU4X...</td>\n",
       "    </tr>\n",
       "    <tr>\n",
       "      <th>12</th>\n",
       "      <td>samsung phones</td>\n",
       "      <td>Samsung Galaxy Z Fold2 5G Mystic Bronze, 12GB ...</td>\n",
       "      <td>193</td>\n",
       "      <td>193</td>\n",
       "      <td>https://m.media-amazon.com/images/I/71U9nzW+Xs...</td>\n",
       "    </tr>\n",
       "  </tbody>\n",
       "</table>\n",
       "</div>"
      ],
      "text/plain": [
       "             Query                                              Title Price  \\\n",
       "0   samsung phones  Samsung Galaxy Z Fold3 5G (Phantom Black, 12GB...   122   \n",
       "1   samsung phones  Samsung Galaxy Z Fold3 5G (Phantom Black, 12GB...   122   \n",
       "2   samsung phones  Samsung Galaxy Z Fold3 5G (Phantom Black, 12GB...   122   \n",
       "3   samsung phones  Samsung Galaxy Z Fold3 5G (Phantom Silver, 12G...   122   \n",
       "4   samsung phones  Samsung Galaxy Z Fold3 5G (Phantom Silver, 12G...   122   \n",
       "5   samsung phones  Samsung Galaxy Z Fold3 5G (Phantom Green, 12GB...   122   \n",
       "6   samsung phones  Samsung Galaxy Z Fold3 5G (Phantom Green, 12GB...   122   \n",
       "7   samsung phones  Samsung Galaxy Z Fold3 5G (Phantom Black, 12GB...   122   \n",
       "8   samsung phones  Samsung Galaxy Z Fold3 5G (Phantom Silver, 12G...   122   \n",
       "9   samsung phones  Samsung Galaxy Z Fold3 5G (Phantom Green, 12GB...   122   \n",
       "10  samsung phones  Samsung Galaxy Z Fold3 with Snapdragon 888 Sin...   133   \n",
       "11  samsung phones  Samsung Galaxy Z Fold3 with Snapdragon 888 Sin...   193   \n",
       "12  samsung phones  Samsung Galaxy Z Fold2 5G Mystic Bronze, 12GB ...   193   \n",
       "\n",
       "   Reviews                                           ImageUrl  \n",
       "0      122  https://m.media-amazon.com/images/I/31o+x2w1q5...  \n",
       "1      122  https://m.media-amazon.com/images/I/31-ru50w-k...  \n",
       "2      122  https://m.media-amazon.com/images/I/71MmJNwZcM...  \n",
       "3      122  https://m.media-amazon.com/images/I/31evxtQecY...  \n",
       "4      122  https://m.media-amazon.com/images/I/31+RR-Qglo...  \n",
       "5      122  https://m.media-amazon.com/images/I/51bmCrxIhM...  \n",
       "6      122  https://m.media-amazon.com/images/I/51T6vw1LTG...  \n",
       "7      122  https://m.media-amazon.com/images/I/71MmJNwZcM...  \n",
       "8      122  https://m.media-amazon.com/images/I/71UmO2UOiB...  \n",
       "9      122  https://m.media-amazon.com/images/I/71MdaT+vH1...  \n",
       "10     133  https://m.media-amazon.com/images/I/71cpumiTZ0...  \n",
       "11     193  https://m.media-amazon.com/images/I/71yw+qKU4X...  \n",
       "12     193  https://m.media-amazon.com/images/I/71U9nzW+Xs...  "
      ]
     },
     "execution_count": 31,
     "metadata": {},
     "output_type": "execute_result"
    }
   ],
   "source": [
    "print(df.shape)\n",
    "df"
   ]
  },
  {
   "cell_type": "code",
   "execution_count": 32,
   "id": "13f420fe",
   "metadata": {},
   "outputs": [],
   "source": [
    "df.to_csv('amogle.csv')"
   ]
  },
  {
   "cell_type": "code",
   "execution_count": null,
   "id": "f02c5102",
   "metadata": {},
   "outputs": [],
   "source": []
  }
 ],
 "metadata": {
  "kernelspec": {
   "display_name": "Python 3 (ipykernel)",
   "language": "python",
   "name": "python3"
  },
  "language_info": {
   "codemirror_mode": {
    "name": "ipython",
    "version": 3
   },
   "file_extension": ".py",
   "mimetype": "text/x-python",
   "name": "python",
   "nbconvert_exporter": "python",
   "pygments_lexer": "ipython3",
   "version": "3.10.1"
  }
 },
 "nbformat": 4,
 "nbformat_minor": 5
}
