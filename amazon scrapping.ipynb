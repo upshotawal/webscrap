{
 "cells": [
  {
   "cell_type": "code",
   "execution_count": null,
   "id": "9ba85b0f",
   "metadata": {},
   "outputs": [],
   "source": []
  },
  {
   "cell_type": "code",
   "execution_count": 4,
   "id": "c32a7625",
   "metadata": {},
   "outputs": [],
   "source": [
    "from autoscraper import AutoScraper"
   ]
  },
  {
   "cell_type": "code",
   "execution_count": 5,
   "id": "f1492bd8",
   "metadata": {},
   "outputs": [],
   "source": [
    "amazon_url=\"https://us.amazon.com/s?k=gaming+keyboard&pd_rd_r=586aa203-2d21-46c7-9b25-2f602eec2c78&pd_rd_w=NlADt&pd_rd_wg=UMNRF&pf_rd_p=12129333-2117-4490-9c17-6d31baf0582a&pf_rd_r=1FW7EB91BA59M3QA3Y8Q&ref=pd_gw_unk\"\n",
    "\n",
    "wanted_list=[\"$46.11\",\"Fiodio Mechanical Gaming Keyboard, LED Rainbow Gaming Backlit, 104 Anti-ghosting Keys, Quick-Response Black Switches, Multimedia Control for PC and Desktop Computer, with Removable Hand Rest\",\"https://m.media-amazon.com/images/I/71pPm31LFkS._AC_UY218_.jpg\"]"
   ]
  },
  {
   "cell_type": "code",
   "execution_count": 6,
   "id": "11cc44b8",
   "metadata": {},
   "outputs": [
    {
     "name": "stdout",
     "output_type": "stream",
     "text": [
      "['Razer Cynosa Chroma Gaming Keyboard: Individually Backlit RGB Keys - Spill-Resistant Design - Programmable Macro Functionality - Quiet & Cushioned', 'Logitech G910 Orion Spectrum RGB Wired Mechanical Gaming Keyboard , Black', 'HyperX Alloy Core RGB – Membrane Gaming Keyboard, Comfortable Quiet Silent Keys with RGB LED Lighting Effects, Spill Resistant, Dedicated Media Keys, Compatible with Windows 10/8.1/8/7 – Black', 'SteelSeries Apex 3 RGB Gaming Keyboard – 10-Zone RGB Illumination – IP32 Water Resistant – Premium Magnetic Wrist Rest (Whisper Quiet Gaming Switch)', 'Razer Ornata Chroma Gaming Keyboard: Hybrid Mechanical Key Switches - Customizable Chroma RGB Lighting - Individually Backlit Keys - Detachable Plush Wrist Rest - Programmable Macro Functionality', 'Fiodio Mechanical Gaming Keyboard, LED Rainbow Gaming Backlit, 104 Anti-ghosting Keys, Quick-Response Black Switches, Multimedia Control for PC and Desktop Computer, with Removable Hand Rest', 'Logitech G213 Prodigy Gaming Keyboard, LIGHTSYNC RGB Backlit Keys, Spill-Resistant, Customizable Keys, Dedicated Multi-Media Keys – Black', 'Razer Huntsman Mini 60% Gaming Keyboard: Fastest Keyboard Switches Ever - Clicky Optical Switches - Chroma RGB Lighting - PBT Keycaps - Onboard Memory - Classic Black', 'Razer Huntsman Tournament Edition TKL Tenkeyless Gaming Keyboard: Fastest Keyboard Switches Ever - Linear Optical Switches - Chroma RGB Lighting - PBT Keycaps - Onboard Memory - Classic Black', 'Razer Huntsman Elite Gaming Keyboard: Fastest Keyboard Switches Ever - Clicky Optical Switches - Chroma RGB Lighting - Magnetic Plush Wrist Rest - Dedicated Media Keys & Dial - Classic Black', 'HyperX Alloy Origins Core - Tenkeyless Mechanical Gaming Keyboard, Software Controlled Light & Macro Customization, Compact Form Factor, RGB LED Backlit, Linear HyperX Red Switch', 'Razer BlackWidow V3 Mechanical Gaming Keyboard: Green Mechanical Switches - Tactile & Clicky - Chroma RGB Lighting - Compact Form Factor - Programmable Macro Functionality, Classic Black', 'Logitech G513 Carbon LIGHTSYNC RGB Mechanical Gaming Keyboard with GX Brown Switches - Tactile', 'Corsair K60 RGB Pro Mechanical Gaming Keyboard - CHERRY Mechanical Keyswitches - Durable AluminumFrame - Customizable Per-Key RGB Backlighting, Black', 'Razer Tartarus v2 Gaming Keypad: Mecha-Membrane Key Switches - 32 Programmable Keys - Customizable Chroma RGB Lighting - Programmable Macros - Classic Black', 'Razer Huntsman V2 TKL Tenkeyless Gaming Keyboard: Fastest Clicky Optical Switches w/Quick Keystrokes & 8000Hz Polling Rate - Detachable Type-C Cable - Doubleshot PBT Keycaps - Ergonomic Wrist Rest', 'https://m.media-amazon.com/images/I/61WgmLgwuQL._AC_UY218_.jpg', 'https://m.media-amazon.com/images/I/61IVHE8oy9L._AC_UY218_.jpg', 'https://m.media-amazon.com/images/I/71T9KD9OFVL._AC_UY218_.jpg', 'https://m.media-amazon.com/images/I/81L8fk7SGQL._AC_UY218_.jpg', 'https://m.media-amazon.com/images/I/8116DtW4WWL._AC_UY218_.jpg', 'https://m.media-amazon.com/images/I/71pPm31LFkS._AC_UY218_.jpg', 'https://m.media-amazon.com/images/I/61Nt8geXzWL._AC_UY218_.jpg', 'https://m.media-amazon.com/images/I/61Az2uOUbqL._AC_UY218_.jpg', 'https://m.media-amazon.com/images/I/61ikKpHAlBL._AC_UY218_.jpg', 'https://m.media-amazon.com/images/I/81Vtb-0K3-L._AC_UY218_.jpg', 'https://m.media-amazon.com/images/I/71cQYybJC7L._AC_UY218_.jpg', 'https://m.media-amazon.com/images/I/81-+oewJgQL._AC_UY218_.jpg', 'https://m.media-amazon.com/images/I/61PxD8xH9ML._AC_UY218_.jpg', 'https://m.media-amazon.com/images/I/71As1MFOixL._AC_UY218_.jpg', 'https://m.media-amazon.com/images/I/71r3ktfakgL._AC_UY218_.jpg', 'https://m.media-amazon.com/images/I/81VbPK0fFqL._AC_UY218_.jpg']\n"
     ]
    }
   ],
   "source": [
    "scraper=AutoScraper()\n",
    "result=scraper.build(amazon_url,wanted_list)\n",
    "print(result)"
   ]
  },
  {
   "cell_type": "code",
   "execution_count": 7,
   "id": "32cef483",
   "metadata": {
    "scrolled": true
   },
   "outputs": [
    {
     "data": {
      "text/plain": [
       "{'rule_fuuv': ['Razer Cynosa Chroma Gaming Keyboard: Individually Backlit RGB Keys - Spill-Resistant Design - Programmable Macro Functionality - Quiet & Cushioned',\n",
       "  'Logitech G910 Orion Spectrum RGB Wired Mechanical Gaming Keyboard , Black',\n",
       "  'HyperX Alloy Core RGB – Membrane Gaming Keyboard, Comfortable Quiet Silent Keys with RGB LED Lighting Effects, Spill Resistant, Dedicated Media Keys, Compatible with Windows 10/8.1/8/7 – Black',\n",
       "  'Razer Ornata Chroma Gaming Keyboard: Hybrid Mechanical Key Switches - Customizable Chroma RGB Lighting - Individually Backlit Keys - Detachable Plush Wrist Rest - Programmable Macro Functionality',\n",
       "  'SteelSeries Apex 3 RGB Gaming Keyboard – 10-Zone RGB Illumination – IP32 Water Resistant – Premium Magnetic Wrist Rest (Whisper Quiet Gaming Switch)',\n",
       "  'Fiodio Mechanical Gaming Keyboard, LED Rainbow Gaming Backlit, 104 Anti-ghosting Keys, Quick-Response Black Switches, Multimedia Control for PC and Desktop Computer, with Removable Hand Rest',\n",
       "  'Logitech G213 Prodigy Gaming Keyboard, LIGHTSYNC RGB Backlit Keys, Spill-Resistant, Customizable Keys, Dedicated Multi-Media Keys – Black',\n",
       "  'Razer Huntsman Mini 60% Gaming Keyboard: Fastest Keyboard Switches Ever - Clicky Optical Switches - Chroma RGB Lighting - PBT Keycaps - Onboard Memory - Classic Black',\n",
       "  'Razer Huntsman Tournament Edition TKL Tenkeyless Gaming Keyboard: Fastest Keyboard Switches Ever - Linear Optical Switches - Chroma RGB Lighting - PBT Keycaps - Onboard Memory - Classic Black',\n",
       "  'Razer Huntsman Elite Gaming Keyboard: Fastest Keyboard Switches Ever - Clicky Optical Switches - Chroma RGB Lighting - Magnetic Plush Wrist Rest - Dedicated Media Keys & Dial - Classic Black',\n",
       "  'Logitech G513 Carbon LIGHTSYNC RGB Mechanical Gaming Keyboard with GX Brown Switches - Tactile',\n",
       "  'HyperX Alloy Origins Core - Tenkeyless Mechanical Gaming Keyboard, Software Controlled Light & Macro Customization, Compact Form Factor, RGB LED Backlit, Linear HyperX Red Switch',\n",
       "  'Razer BlackWidow V3 Mechanical Gaming Keyboard: Green Mechanical Switches - Tactile & Clicky - Chroma RGB Lighting - Compact Form Factor - Programmable Macro Functionality, Classic Black',\n",
       "  'Corsair K60 RGB Pro Mechanical Gaming Keyboard - CHERRY Mechanical Keyswitches - Durable AluminumFrame - Customizable Per-Key RGB Backlighting, Black',\n",
       "  'Razer Tartarus v2 Gaming Keypad: Mecha-Membrane Key Switches - 32 Programmable Keys - Customizable Chroma RGB Lighting - Programmable Macros - Classic Black',\n",
       "  'Razer Huntsman V2 TKL Tenkeyless Gaming Keyboard: Fastest Clicky Optical Switches w/Quick Keystrokes & 8000Hz Polling Rate - Detachable Type-C Cable - Doubleshot PBT Keycaps - Ergonomic Wrist Rest'],\n",
       " 'rule_m66q': ['https://m.media-amazon.com/images/I/61WgmLgwuQL._AC_UY218_.jpg',\n",
       "  'https://m.media-amazon.com/images/I/61IVHE8oy9L._AC_UY218_.jpg',\n",
       "  'https://m.media-amazon.com/images/I/71T9KD9OFVL._AC_UY218_.jpg',\n",
       "  'https://m.media-amazon.com/images/I/8116DtW4WWL._AC_UY218_.jpg',\n",
       "  'https://m.media-amazon.com/images/I/81L8fk7SGQL._AC_UY218_.jpg',\n",
       "  'https://m.media-amazon.com/images/I/71pPm31LFkS._AC_UY218_.jpg',\n",
       "  'https://m.media-amazon.com/images/I/61Nt8geXzWL._AC_UY218_.jpg',\n",
       "  'https://m.media-amazon.com/images/I/61Az2uOUbqL._AC_UY218_.jpg',\n",
       "  'https://m.media-amazon.com/images/I/61ikKpHAlBL._AC_UY218_.jpg',\n",
       "  'https://m.media-amazon.com/images/I/81Vtb-0K3-L._AC_UY218_.jpg',\n",
       "  'https://m.media-amazon.com/images/I/61PxD8xH9ML._AC_UY218_.jpg',\n",
       "  'https://m.media-amazon.com/images/I/71cQYybJC7L._AC_UY218_.jpg',\n",
       "  'https://m.media-amazon.com/images/I/81-+oewJgQL._AC_UY218_.jpg',\n",
       "  'https://m.media-amazon.com/images/I/71As1MFOixL._AC_UY218_.jpg',\n",
       "  'https://m.media-amazon.com/images/I/71r3ktfakgL._AC_UY218_.jpg',\n",
       "  'https://m.media-amazon.com/images/I/81VbPK0fFqL._AC_UY218_.jpg']}"
      ]
     },
     "execution_count": 7,
     "metadata": {},
     "output_type": "execute_result"
    }
   ],
   "source": [
    "scraper.get_result_similar(amazon_url,grouped=True)"
   ]
  },
  {
   "cell_type": "code",
   "execution_count": 8,
   "id": "3b1d93c4",
   "metadata": {},
   "outputs": [],
   "source": [
    "scraper.set_rule_aliases({'rule_fuuv':'Title','rule_m66q':'Images'})\n",
    "scraper.keep_rules(['rule_fuuv','rule_m66q'])\n",
    "scraper.save('amazon-search')"
   ]
  },
  {
   "cell_type": "code",
   "execution_count": 9,
   "id": "e9f46ecb",
   "metadata": {},
   "outputs": [],
   "source": [
    "results=scraper.get_result_similar('https://us.amazon.com/b?node=16225016011&pf_rd_r=1FW7EB91BA59M3QA3Y8Q&pf_rd_p=e5b0c85f-569c-4c90-a58f-0c0a260e45a0&pd_rd_r=586aa203-2d21-46c7-9b25-2f602eec2c78&pd_rd_w=f9kUq&pd_rd_wg=UMNRF&ref_=pd_gw_unk',group_by_alias=True)"
   ]
  },
  {
   "cell_type": "code",
   "execution_count": 10,
   "id": "c6ddeb9a",
   "metadata": {},
   "outputs": [
    {
     "data": {
      "text/plain": [
       "{'Title': [], 'Images': []}"
      ]
     },
     "execution_count": 10,
     "metadata": {},
     "output_type": "execute_result"
    }
   ],
   "source": [
    "results"
   ]
  },
  {
   "cell_type": "code",
   "execution_count": 11,
   "id": "3ebf5d72",
   "metadata": {},
   "outputs": [],
   "source": [
    "data = results"
   ]
  },
  {
   "cell_type": "code",
   "execution_count": 13,
   "id": "d3c79518",
   "metadata": {},
   "outputs": [
    {
     "ename": "NameError",
     "evalue": "name 'Title' is not defined",
     "output_type": "error",
     "traceback": [
      "\u001b[1;31m---------------------------------------------------------------------------\u001b[0m",
      "\u001b[1;31mNameError\u001b[0m                                 Traceback (most recent call last)",
      "\u001b[1;32m~\\AppData\\Local\\Temp/ipykernel_13980/2697093483.py\u001b[0m in \u001b[0;36m<module>\u001b[1;34m\u001b[0m\n\u001b[0;32m      1\u001b[0m \u001b[1;32mimport\u001b[0m \u001b[0mpandas\u001b[0m \u001b[1;32mas\u001b[0m \u001b[0mpd\u001b[0m\u001b[1;33m\u001b[0m\u001b[1;33m\u001b[0m\u001b[0m\n\u001b[1;32m----> 2\u001b[1;33m \u001b[0mdf\u001b[0m \u001b[1;33m=\u001b[0m\u001b[0mpd\u001b[0m\u001b[1;33m.\u001b[0m\u001b[0mDataFrame\u001b[0m\u001b[1;33m(\u001b[0m\u001b[0mdata\u001b[0m\u001b[1;33m,\u001b[0m\u001b[0mcolumns\u001b[0m \u001b[1;33m=\u001b[0m\u001b[1;33m[\u001b[0m\u001b[1;33m{\u001b[0m\u001b[1;34m'Title'\u001b[0m\u001b[1;33m:\u001b[0m\u001b[0mTitle\u001b[0m\u001b[1;33m,\u001b[0m\u001b[1;34m'Images'\u001b[0m\u001b[1;33m:\u001b[0m\u001b[0mImages\u001b[0m\u001b[1;33m}\u001b[0m\u001b[1;33m]\u001b[0m\u001b[1;33m)\u001b[0m\u001b[1;33m\u001b[0m\u001b[1;33m\u001b[0m\u001b[0m\n\u001b[0m",
      "\u001b[1;31mNameError\u001b[0m: name 'Title' is not defined"
     ]
    }
   ],
   "source": [
    "import pandas as pd\n",
    "df =pd.DataFrame(data,columns =[{'Title':Title,'Images':Images}])"
   ]
  },
  {
   "cell_type": "code",
   "execution_count": 14,
   "id": "ca60befe",
   "metadata": {},
   "outputs": [
    {
     "ename": "NameError",
     "evalue": "name 'df' is not defined",
     "output_type": "error",
     "traceback": [
      "\u001b[1;31m---------------------------------------------------------------------------\u001b[0m",
      "\u001b[1;31mNameError\u001b[0m                                 Traceback (most recent call last)",
      "\u001b[1;32m~\\AppData\\Local\\Temp/ipykernel_13980/2788737689.py\u001b[0m in \u001b[0;36m<module>\u001b[1;34m\u001b[0m\n\u001b[1;32m----> 1\u001b[1;33m \u001b[0mdf\u001b[0m\u001b[1;33m.\u001b[0m\u001b[0mto_csv\u001b[0m\u001b[1;33m(\u001b[0m\u001b[1;34m'image.csv'\u001b[0m\u001b[1;33m)\u001b[0m\u001b[1;33m\u001b[0m\u001b[1;33m\u001b[0m\u001b[0m\n\u001b[0m",
      "\u001b[1;31mNameError\u001b[0m: name 'df' is not defined"
     ]
    }
   ],
   "source": [
    "df.to_csv('image.csv')"
   ]
  },
  {
   "cell_type": "code",
   "execution_count": null,
   "id": "b61b880a",
   "metadata": {},
   "outputs": [],
   "source": []
  }
 ],
 "metadata": {
  "kernelspec": {
   "display_name": "Python 3 (ipykernel)",
   "language": "python",
   "name": "python3"
  },
  "language_info": {
   "codemirror_mode": {
    "name": "ipython",
    "version": 3
   },
   "file_extension": ".py",
   "mimetype": "text/x-python",
   "name": "python",
   "nbconvert_exporter": "python",
   "pygments_lexer": "ipython3",
   "version": "3.10.1"
  }
 },
 "nbformat": 4,
 "nbformat_minor": 5
}
